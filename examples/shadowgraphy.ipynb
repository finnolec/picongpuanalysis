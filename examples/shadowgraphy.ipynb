{
 "cells": [
  {
   "cell_type": "markdown",
   "id": "2b0f8607-9fdf-46f4-95c5-71e468532839",
   "metadata": {},
   "source": [
    "# Load and Plot Shadowgraphy Data from PIConGPU Simulation"
   ]
  },
  {
   "cell_type": "markdown",
   "id": "8e541986-3dca-462f-a0dd-52abb5f85d84",
   "metadata": {},
   "source": [
    "This notebooks loads both the intermediate and final output from the PIConGPU shadowgraphy plugin. The intermediate output is then processed with the `picongpuanalysis.postprocessing` module to reproduce the final output. Both outputs are then compared to each other. Generally, the `picongpuanalysis.postprocessing` module can be used to create shadowgrams more flexibly then the in-situ version."
   ]
  },
  {
   "cell_type": "code",
   "execution_count": null,
   "id": "fa82b4aa-b2fb-4dfa-b315-9156d1402d9f",
   "metadata": {},
   "outputs": [],
   "source": [
    "import matplotlib.pyplot as plt\n",
    "import numpy as np\n",
    "import scipy.constants as const\n",
    "\n",
    "import picongpuanalysis.loading as pal\n",
    "import picongpuanalysis.postprocessing as pap"
   ]
  },
  {
   "cell_type": "code",
   "execution_count": null,
   "id": "0bb6fdb6-70ba-4958-9aaf-f81319b9c410",
   "metadata": {},
   "outputs": [],
   "source": [
    "# Time-step from PIConGPU output\n",
    "time_step = 12345\n",
    "\n",
    "# Path to PIConGPU output\n",
    "path_fourier = f\"path/to/simOutput/shadowgraphy_fourierdata_{time_step}.bp5\"\n",
    "path_shadowgram = f\"path/to/simOutput/shadowgraphy_{time_step}.bp5\""
   ]
  },
  {
   "cell_type": "markdown",
   "id": "1df90855-e949-417f-b580-fd80ee5804fb",
   "metadata": {},
   "source": [
    "## Post-Processing Shadowgrams"
   ]
  },
  {
   "cell_type": "code",
   "execution_count": null,
   "id": "ffb10378-9bc2-4bfb-8897-adfd1241ff89",
   "metadata": {},
   "outputs": [],
   "source": [
    "# Load timestep from shadowgram file for Fourier transforms\n",
    "# Not stored in Fourier files at the moment\n",
    "dt = pal.shadowgraphy.get_delta_t(path_shadowgram, 1705)"
   ]
  },
  {
   "cell_type": "markdown",
   "id": "95e984c5-d15e-4aa0-aff0-7fa8ce618b77",
   "metadata": {},
   "source": [
    "### Shadowgraphy Parameters"
   ]
  },
  {
   "cell_type": "code",
   "execution_count": null,
   "id": "fe6fd565-42d1-4dac-8cd4-c7a535838d3b",
   "metadata": {},
   "outputs": [],
   "source": [
    "# Set band-pass filter cut-off values to 800nm +- 400nm\n",
    "omega_min = 2 * np.pi * const.c / (800e-9 + 400e-9) \n",
    "omega_max = 2 * np.pi * const.c / (800e-9 - 400e-9) \n",
    "\n",
    "numerical_aperture = 0.3\n",
    "\n",
    "# Propagation distance of extracted fields in positive z direction\n",
    "propagation_distance = 1e-2"
   ]
  },
  {
   "cell_type": "markdown",
   "id": "f1e45396-f858-458d-8990-6b1ba3f5bee9",
   "metadata": {},
   "source": [
    "### Load Fields from Intermediate Output and Transform into (k_x, k_y, ω)-Domain"
   ]
  },
  {
   "cell_type": "code",
   "execution_count": null,
   "id": "a5213de0-5713-4eb3-b800-baba26b65a05",
   "metadata": {},
   "outputs": [],
   "source": [
    "fields_xyo = pal.shadowgraphy.load_shadowgraphy_fourier(path_fourier, time_step)\n",
    "fields_kko = pap.shadowgraphy.fft_to_kko(fields_xyo)"
   ]
  },
  {
   "cell_type": "markdown",
   "id": "ff54e5cd-d21f-4c64-b8f4-2539703681a3",
   "metadata": {},
   "source": [
    "### Fourier-Domain Operations"
   ]
  },
  {
   "cell_type": "markdown",
   "id": "9b50072c-3de7-4a1c-820a-d139b88eb5bc",
   "metadata": {},
   "source": [
    "The `fields_kko` dictionary is overwritten by default when band-pass filter, numerical aperture and propagation are applied. This can be changed by using `overwrite_fields = True` as parameters in the functions."
   ]
  },
  {
   "cell_type": "code",
   "execution_count": null,
   "id": "f04d5b5a-8d65-4baa-b88a-0ee6bc409a88",
   "metadata": {},
   "outputs": [],
   "source": [
    "# Apply band-pass filter first since it truncates array and should improve performance\n",
    "pap.shadowgraphy.apply_band_pass_filter(fields_kko, omega_min, omega_max)\n",
    "pap.shadowgraphy.apply_numerical_aperture(fields_kko, numerical_aperture)\n",
    "pap.shadowgraphy.propagate_fields(fields_kko, propagation_distance)\n",
    "\n",
    "# Pad array to full 3D (k,k,o)-array for FFTs\n",
    "fields_kko_padded = pap.shadowgraphy.restore_fields_kko(fields_kko, delta_t = dt)"
   ]
  },
  {
   "cell_type": "markdown",
   "id": "67f1ec4b-b004-4e64-8547-bfb8d0443b67",
   "metadata": {},
   "source": [
    "### Transform Fields into (x,y,t)-Domain and Compute Shadowgrams"
   ]
  },
  {
   "cell_type": "code",
   "execution_count": null,
   "id": "1728b637-704e-40e4-895f-52b9c6069aed",
   "metadata": {},
   "outputs": [],
   "source": [
    "fields_xyt = pap.shadowgraphy.ifft_to_xyt(fields_kko_padded)\n",
    "shadowgram_pp = pap.shadowgraphy.compute_shadowgram(fields_xyt)"
   ]
  },
  {
   "cell_type": "markdown",
   "id": "c364b56e-459f-4d77-8b11-bdfc973e8ea6",
   "metadata": {},
   "source": [
    "### Plot Post-Processing Shadowgram"
   ]
  },
  {
   "cell_type": "code",
   "execution_count": null,
   "id": "1e87021e-f216-4023-9aa1-e335d5e8565f",
   "metadata": {},
   "outputs": [],
   "source": [
    "xspace = shadowgram_pp[\"x_space\"]\n",
    "yspace = shadowgram_pp[\"y_space\"]\n",
    "\n",
    "xm, ym = np.meshgrid(yspace*1e6, xspace*1e6)\n",
    "\n",
    "fig, ax = plt.subplots()\n",
    "pcm = ax.pcolormesh(xm, ym, shadowgram_pp[\"data\"])\n",
    "ax.set_aspect(\"equal\")\n",
    "ax.set_title(\"Plugin Post-Processing Shadowgram\")\n",
    "ax.set_xlabel(\"y [μm]\")\n",
    "ax.set_ylabel(\"x [μm]\")\n",
    "fig.colorbar(pcm)"
   ]
  },
  {
   "cell_type": "markdown",
   "id": "2a2c3a1e-2305-4186-a685-bf49bcef8cbe",
   "metadata": {},
   "source": [
    "## In-Situ Shadowgrams"
   ]
  },
  {
   "cell_type": "markdown",
   "id": "68539e9d-4660-4e5b-84cc-a5726152240b",
   "metadata": {},
   "source": [
    "### Load In-Situ Processed Data from Plugin"
   ]
  },
  {
   "cell_type": "code",
   "execution_count": null,
   "id": "15357e71-59d7-4b19-a762-6d3b3e1b290c",
   "metadata": {},
   "outputs": [],
   "source": [
    "shadowgram_is = pal.shadowgraphy.load_shadowgram(path_shadowgram, time_step)"
   ]
  },
  {
   "cell_type": "markdown",
   "id": "8bce2016-52f6-44fd-82b2-e796764d36d1",
   "metadata": {},
   "source": [
    "### Plot In-Situ Shadowgram"
   ]
  },
  {
   "cell_type": "code",
   "execution_count": null,
   "id": "29a4aa9b-b465-4593-9650-f9be68c909bc",
   "metadata": {},
   "outputs": [],
   "source": [
    "xspace = shadowgram_is[\"x_space\"] - np.mean(shadowgram_is[\"x_space\"])\n",
    "yspace = shadowgram_is[\"y_space\"] - np.mean(shadowgram_is[\"y_space\"])\n",
    "\n",
    "xm, ym = np.meshgrid(yspace*1e6, xspace*1e6)\n",
    "\n",
    "fig, ax = plt.subplots()\n",
    "pcm = ax.pcolormesh(xm, ym, shadowgram_is[\"data\"])\n",
    "ax.set_aspect(\"equal\")\n",
    "ax.set_title(\"Plugin In-Situ Shadowgram\")\n",
    "ax.set_xlabel(\"y [μm]\")\n",
    "ax.set_ylabel(\"x [μm]\")\n",
    "fig.colorbar(pcm)"
   ]
  },
  {
   "cell_type": "markdown",
   "id": "8d415533-56b6-4be7-a1ed-83e6c5b6f745",
   "metadata": {},
   "source": [
    "## Relative Difference between Post-Processing and In-Situ Plugin"
   ]
  },
  {
   "cell_type": "code",
   "execution_count": null,
   "id": "497f7352-82f0-41fb-9e0f-3a7415dcbbff",
   "metadata": {},
   "outputs": [],
   "source": [
    "rel_diff = (shadowgram_is[\"data\"] - shadowgram_pp[\"data\"]) / ((shadowgram_is[\"data\"] + shadowgram_pp[\"data\"]) / 2)\n",
    "fig, ax = plt.subplots()\n",
    "pcm = ax.pcolormesh(rel_diff)\n",
    "ax.set_title(\"Rel. Difference In-Situ vs Post-Processing\")\n",
    "ax.set_xlabel(\"y [μm]\")\n",
    "ax.set_ylabel(\"x [μm]\")\n",
    "fig.colorbar(pcm)"
   ]
  },
  {
   "cell_type": "code",
   "execution_count": null,
   "id": "b952c2da-a074-43df-afc0-a1760e4dfc4c",
   "metadata": {},
   "outputs": [],
   "source": []
  }
 ],
 "metadata": {
  "kernelspec": {
   "display_name": "Python 3 (ipykernel)",
   "language": "python",
   "name": "python3"
  },
  "language_info": {
   "codemirror_mode": {
    "name": "ipython",
    "version": 3
   },
   "file_extension": ".py",
   "mimetype": "text/x-python",
   "name": "python",
   "nbconvert_exporter": "python",
   "pygments_lexer": "ipython3",
   "version": "3.12.6"
  }
 },
 "nbformat": 4,
 "nbformat_minor": 5
}
